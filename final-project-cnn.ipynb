{
 "cells": [
  {
   "cell_type": "markdown",
   "metadata": {
    "id": "r5AeJu-WexNT"
   },
   "source": [
    "# **Signs Language classifier using Convolutional Neural Networks**\r\n",
    "\r\n",
    "What will be covered in this notebook:\r\n",
    "\r\n",
    "1. Prepare the environment\r\n",
    "2. Exploring the Data\r\n",
    "3. Creating Datasets and Data Loaders\r\n",
    "4. Define the Model\r\n",
    "5. Training the Model\r\n",
    "\r\n"
   ]
  },
  {
   "cell_type": "markdown",
   "metadata": {
    "id": "Z0qzZyKGGDeH"
   },
   "source": [
    "## **1. Prepare the environment**"
   ]
  },
  {
   "cell_type": "code",
   "execution_count": 4,
   "metadata": {
    "executionInfo": {
     "elapsed": 5260,
     "status": "ok",
     "timestamp": 1610040018561,
     "user": {
      "displayName": "Hada Garcia",
      "photoUrl": "https://lh3.googleusercontent.com/a-/AOh14Gi5p64eWTKszDlj66P2U3dblSrqCuGP_A6Y9P01Xw=s64",
      "userId": "17697916405456863555"
     },
     "user_tz": -60
    },
    "id": "0WR9bgLnem3Y"
   },
   "outputs": [],
   "source": [
    "!pip install jovian --upgrade --quiet\r\n",
    "# !pip install opendatasets --upgrade --quiet\r\n",
    "!pip install -q kaggle"
   ]
  },
  {
   "cell_type": "code",
   "execution_count": 5,
   "metadata": {
    "executionInfo": {
     "elapsed": 1149,
     "status": "ok",
     "timestamp": 1610040022017,
     "user": {
      "displayName": "Hada Garcia",
      "photoUrl": "https://lh3.googleusercontent.com/a-/AOh14Gi5p64eWTKszDlj66P2U3dblSrqCuGP_A6Y9P01Xw=s64",
      "userId": "17697916405456863555"
     },
     "user_tz": -60
    },
    "id": "tP4Mei-OsIrP"
   },
   "outputs": [],
   "source": [
    "project_name = 'final-project-cnn'"
   ]
  },
  {
   "cell_type": "code",
   "execution_count": 6,
   "metadata": {
    "executionInfo": {
     "elapsed": 1144,
     "status": "ok",
     "timestamp": 1610040024631,
     "user": {
      "displayName": "Hada Garcia",
      "photoUrl": "https://lh3.googleusercontent.com/a-/AOh14Gi5p64eWTKszDlj66P2U3dblSrqCuGP_A6Y9P01Xw=s64",
      "userId": "17697916405456863555"
     },
     "user_tz": -60
    },
    "id": "gb6uSJJVjdpB"
   },
   "outputs": [],
   "source": [
    "# Prepare colab to download Kaggle Dataset\r\n",
    "!mkdir ~/.kaggle\r\n",
    "!cp kaggle.json ~/.kaggle/\r\n",
    "!chmod 600 ~/.kaggle/kaggle.json"
   ]
  },
  {
   "cell_type": "code",
   "execution_count": 7,
   "metadata": {
    "colab": {
     "base_uri": "https://localhost:8080/"
    },
    "executionInfo": {
     "elapsed": 2450,
     "status": "ok",
     "timestamp": 1610040032840,
     "user": {
      "displayName": "Hada Garcia",
      "photoUrl": "https://lh3.googleusercontent.com/a-/AOh14Gi5p64eWTKszDlj66P2U3dblSrqCuGP_A6Y9P01Xw=s64",
      "userId": "17697916405456863555"
     },
     "user_tz": -60
    },
    "id": "1IW-ku5dh1LT",
    "outputId": "44d843a7-9dcc-4813-c718-626964fdc54e"
   },
   "outputs": [
    {
     "name": "stdout",
     "output_type": "stream",
     "text": [
      "Downloading sign-language-mnist.zip to /content\n",
      " 73% 46.0M/62.6M [00:00<00:00, 29.5MB/s]\n",
      "100% 62.6M/62.6M [00:00<00:00, 68.0MB/s]\n"
     ]
    }
   ],
   "source": [
    "# Download the Kaggle Dataset\r\n",
    "!kaggle datasets download -d 'datamunge/sign-language-mnist'"
   ]
  },
  {
   "cell_type": "code",
   "execution_count": 8,
   "metadata": {
    "colab": {
     "base_uri": "https://localhost:8080/"
    },
    "executionInfo": {
     "elapsed": 3094,
     "status": "ok",
     "timestamp": 1610040042172,
     "user": {
      "displayName": "Hada Garcia",
      "photoUrl": "https://lh3.googleusercontent.com/a-/AOh14Gi5p64eWTKszDlj66P2U3dblSrqCuGP_A6Y9P01Xw=s64",
      "userId": "17697916405456863555"
     },
     "user_tz": -60
    },
    "id": "MrRM7iHqk6fb",
    "outputId": "2cfebf4a-1a82-4341-d516-573bf20b6601"
   },
   "outputs": [
    {
     "name": "stdout",
     "output_type": "stream",
     "text": [
      "Archive:  sign-language-mnist.zip\n",
      "  inflating: data/amer_sign2.png     \n",
      "  inflating: data/amer_sign3.png     \n",
      "  inflating: data/american_sign_language.PNG  \n",
      "  inflating: data/sign_mnist_test.csv  \n",
      "  inflating: data/sign_mnist_test/sign_mnist_test.csv  \n",
      "  inflating: data/sign_mnist_train.csv  \n",
      "  inflating: data/sign_mnist_train/sign_mnist_train.csv  \n"
     ]
    }
   ],
   "source": [
    "# Unzip the data\r\n",
    "!mkdir data\r\n",
    "!unzip sign-language-mnist.zip -d data"
   ]
  },
  {
   "cell_type": "code",
   "execution_count": 9,
   "metadata": {
    "executionInfo": {
     "elapsed": 607,
     "status": "ok",
     "timestamp": 1610040047863,
     "user": {
      "displayName": "Hada Garcia",
      "photoUrl": "https://lh3.googleusercontent.com/a-/AOh14Gi5p64eWTKszDlj66P2U3dblSrqCuGP_A6Y9P01Xw=s64",
      "userId": "17697916405456863555"
     },
     "user_tz": -60
    },
    "id": "NYc5vPWEpmEo"
   },
   "outputs": [],
   "source": [
    "import os\r\n",
    "import torch\r\n",
    "import torch.nn as nn\r\n",
    "import pandas as pd\r\n",
    "import numpy as np"
   ]
  },
  {
   "cell_type": "code",
   "execution_count": 10,
   "metadata": {
    "executionInfo": {
     "elapsed": 808,
     "status": "ok",
     "timestamp": 1610040049767,
     "user": {
      "displayName": "Hada Garcia",
      "photoUrl": "https://lh3.googleusercontent.com/a-/AOh14Gi5p64eWTKszDlj66P2U3dblSrqCuGP_A6Y9P01Xw=s64",
      "userId": "17697916405456863555"
     },
     "user_tz": -60
    },
    "id": "JbQAgsY188ey"
   },
   "outputs": [],
   "source": [
    "# Import data required libraries\r\n",
    "from torch.utils.data import Dataset, random_split, DataLoader\r\n",
    "from torchvision.utils import make_grid\r\n",
    "import torchvision.models as models\r\n",
    "import torchvision.transforms as transforms\r\n",
    "import torch.nn.functional as F\r\n",
    "\r\n",
    "# Plotting libraries\r\n",
    "import matplotlib\r\n",
    "import matplotlib.pyplot as plt\r\n",
    "import seaborn as sns\r\n",
    "%matplotlib inline"
   ]
  },
  {
   "cell_type": "code",
   "execution_count": 11,
   "metadata": {
    "executionInfo": {
     "elapsed": 3633,
     "status": "ok",
     "timestamp": 1610040061730,
     "user": {
      "displayName": "Hada Garcia",
      "photoUrl": "https://lh3.googleusercontent.com/a-/AOh14Gi5p64eWTKszDlj66P2U3dblSrqCuGP_A6Y9P01Xw=s64",
      "userId": "17697916405456863555"
     },
     "user_tz": -60
    },
    "id": "k-o8F6hImD6P"
   },
   "outputs": [],
   "source": [
    "# Load train and validation CSV\r\n",
    "\r\n",
    "TRAIN_CSV = 'data/sign_mnist_train.csv'\r\n",
    "TEST_CSV = 'data/sign_mnist_test.csv'\r\n",
    "\r\n",
    "df_train = pd.read_csv(TRAIN_CSV)\r\n",
    "df_test = pd.read_csv(TEST_CSV)"
   ]
  },
  {
   "cell_type": "code",
   "execution_count": null,
   "metadata": {
    "colab": {
     "base_uri": "https://localhost:8080/",
     "height": 261
    },
    "executionInfo": {
     "elapsed": 548,
     "status": "ok",
     "timestamp": 1609956956459,
     "user": {
      "displayName": "Hada Garcia",
      "photoUrl": "https://lh3.googleusercontent.com/a-/AOh14Gi5p64eWTKszDlj66P2U3dblSrqCuGP_A6Y9P01Xw=s64",
      "userId": "17697916405456863555"
     },
     "user_tz": -60
    },
    "id": "vX6OofbbqRs_",
    "outputId": "153226c2-46f0-4a96-e0d3-43ae2598d5d2"
   },
   "outputs": [
    {
     "name": "stdout",
     "output_type": "stream",
     "text": [
      "Columns are the label and 784 pixels [pixel1, ..., pixel784]:\n",
      " Index(['label', 'pixel1', 'pixel2', 'pixel3', 'pixel4', 'pixel5', 'pixel6',\n",
      "       'pixel7', 'pixel8', 'pixel9',\n",
      "       ...\n",
      "       'pixel775', 'pixel776', 'pixel777', 'pixel778', 'pixel779', 'pixel780',\n",
      "       'pixel781', 'pixel782', 'pixel783', 'pixel784'],\n",
      "      dtype='object', length=785)\n"
     ]
    },
    {
     "data": {
      "text/html": [
       "<div>\n",
       "<style scoped>\n",
       "    .dataframe tbody tr th:only-of-type {\n",
       "        vertical-align: middle;\n",
       "    }\n",
       "\n",
       "    .dataframe tbody tr th {\n",
       "        vertical-align: top;\n",
       "    }\n",
       "\n",
       "    .dataframe thead th {\n",
       "        text-align: right;\n",
       "    }\n",
       "</style>\n",
       "<table border=\"1\" class=\"dataframe\">\n",
       "  <thead>\n",
       "    <tr style=\"text-align: right;\">\n",
       "      <th></th>\n",
       "      <th>label</th>\n",
       "      <th>pixel1</th>\n",
       "      <th>pixel2</th>\n",
       "      <th>pixel3</th>\n",
       "      <th>pixel782</th>\n",
       "      <th>pixel783</th>\n",
       "      <th>pixel784</th>\n",
       "    </tr>\n",
       "  </thead>\n",
       "  <tbody>\n",
       "    <tr>\n",
       "      <th>0</th>\n",
       "      <td>3</td>\n",
       "      <td>107</td>\n",
       "      <td>118</td>\n",
       "      <td>127</td>\n",
       "      <td>204</td>\n",
       "      <td>203</td>\n",
       "      <td>202</td>\n",
       "    </tr>\n",
       "    <tr>\n",
       "      <th>1</th>\n",
       "      <td>6</td>\n",
       "      <td>155</td>\n",
       "      <td>157</td>\n",
       "      <td>156</td>\n",
       "      <td>103</td>\n",
       "      <td>135</td>\n",
       "      <td>149</td>\n",
       "    </tr>\n",
       "    <tr>\n",
       "      <th>2</th>\n",
       "      <td>2</td>\n",
       "      <td>187</td>\n",
       "      <td>188</td>\n",
       "      <td>188</td>\n",
       "      <td>195</td>\n",
       "      <td>194</td>\n",
       "      <td>195</td>\n",
       "    </tr>\n",
       "  </tbody>\n",
       "</table>\n",
       "</div>"
      ],
      "text/plain": [
       "   label  pixel1  pixel2  pixel3  pixel782  pixel783  pixel784\n",
       "0      3     107     118     127       204       203       202\n",
       "1      6     155     157     156       103       135       149\n",
       "2      2     187     188     188       195       194       195"
      ]
     },
     "execution_count": 10,
     "metadata": {
      "tags": []
     },
     "output_type": "execute_result"
    }
   ],
   "source": [
    "# Check out the dataframes\r\n",
    "cols_selection = ['label', 'pixel1', 'pixel2', 'pixel3', 'pixel782', 'pixel783', 'pixel784']\r\n",
    "print('Columns are the label and 784 pixels [pixel1, ..., pixel784]:\\n {}'.format(df_train.columns))\r\n",
    "df_train[cols_selection].head(3)"
   ]
  },
  {
   "cell_type": "markdown",
   "metadata": {
    "id": "6GOkiJ4cNwFb"
   },
   "source": [
    "Defining some image utility functions to be used along the notebook."
   ]
  },
  {
   "cell_type": "code",
   "execution_count": 12,
   "metadata": {
    "executionInfo": {
     "elapsed": 643,
     "status": "ok",
     "timestamp": 1610040070738,
     "user": {
      "displayName": "Hada Garcia",
      "photoUrl": "https://lh3.googleusercontent.com/a-/AOh14Gi5p64eWTKszDlj66P2U3dblSrqCuGP_A6Y9P01Xw=s64",
      "userId": "17697916405456863555"
     },
     "user_tz": -60
    },
    "id": "K-Fn6cs7dn4f"
   },
   "outputs": [],
   "source": [
    "# Displays a batch of images in a grid\r\n",
    "def show_batch(dl, rowSize=32, figSize=(25,20)):\r\n",
    "  for images, labels in dl:\r\n",
    "    fig, ax = plt.subplots(figsize=figSize)\r\n",
    "    ax.set_xticks([]); ax.set_yticks([])\r\n",
    "    ax.imshow(make_grid(images, nrow=rowSize).permute(1, 2, 0))\r\n",
    "    break\r\n",
    "\r\n",
    "# Displays a single image\r\n",
    "def show_sample(img, label, reshapeSize=28):\r\n",
    "  plt.imshow(img, cmap=plt.get_cmap('gray'))\r\n",
    "  print('Test label: ', label)"
   ]
  },
  {
   "cell_type": "markdown",
   "metadata": {
    "id": "PLG3d2T8r_hY"
   },
   "source": [
    "## **2. Exploring the Data**\r\n",
    "\r\n",
    "This Dataset consists of xx entries, where each entry has a column with the label and 784 columns for the image pixels. That means our images have a shape of (28, 28)"
   ]
  },
  {
   "cell_type": "markdown",
   "metadata": {
    "id": "LXb3xTQIu6wi"
   },
   "source": [
    "Train images\r\n",
    "\r\n",
    "We have 27455 entries."
   ]
  },
  {
   "cell_type": "code",
   "execution_count": null,
   "metadata": {
    "colab": {
     "base_uri": "https://localhost:8080/",
     "height": 552
    },
    "executionInfo": {
     "elapsed": 590,
     "status": "ok",
     "timestamp": 1609939067508,
     "user": {
      "displayName": "Hada Garcia",
      "photoUrl": "https://lh3.googleusercontent.com/a-/AOh14Gi5p64eWTKszDlj66P2U3dblSrqCuGP_A6Y9P01Xw=s64",
      "userId": "17697916405456863555"
     },
     "user_tz": -60
    },
    "id": "Tdp0EvDssCj6",
    "outputId": "c063eee7-8122-4729-dccf-e48e4511760d"
   },
   "outputs": [
    {
     "name": "stdout",
     "output_type": "stream",
     "text": [
      "<class 'pandas.core.frame.DataFrame'>\n",
      "RangeIndex: 27455 entries, 0 to 27454\n",
      "Data columns (total 7 columns):\n",
      " #   Column    Non-Null Count  Dtype\n",
      "---  ------    --------------  -----\n",
      " 0   label     27455 non-null  int64\n",
      " 1   pixel1    27455 non-null  int64\n",
      " 2   pixel2    27455 non-null  int64\n",
      " 3   pixel3    27455 non-null  int64\n",
      " 4   pixel782  27455 non-null  int64\n",
      " 5   pixel783  27455 non-null  int64\n",
      " 6   pixel784  27455 non-null  int64\n",
      "dtypes: int64(7)\n",
      "memory usage: 1.5 MB\n",
      "None\n"
     ]
    },
    {
     "data": {
      "text/html": [
       "<div>\n",
       "<style scoped>\n",
       "    .dataframe tbody tr th:only-of-type {\n",
       "        vertical-align: middle;\n",
       "    }\n",
       "\n",
       "    .dataframe tbody tr th {\n",
       "        vertical-align: top;\n",
       "    }\n",
       "\n",
       "    .dataframe thead th {\n",
       "        text-align: right;\n",
       "    }\n",
       "</style>\n",
       "<table border=\"1\" class=\"dataframe\">\n",
       "  <thead>\n",
       "    <tr style=\"text-align: right;\">\n",
       "      <th></th>\n",
       "      <th>label</th>\n",
       "      <th>pixel1</th>\n",
       "      <th>pixel2</th>\n",
       "      <th>pixel3</th>\n",
       "      <th>pixel782</th>\n",
       "      <th>pixel783</th>\n",
       "      <th>pixel784</th>\n",
       "    </tr>\n",
       "  </thead>\n",
       "  <tbody>\n",
       "    <tr>\n",
       "      <th>count</th>\n",
       "      <td>27455.000000</td>\n",
       "      <td>27455.000000</td>\n",
       "      <td>27455.000000</td>\n",
       "      <td>27455.000000</td>\n",
       "      <td>27455.000000</td>\n",
       "      <td>27455.000000</td>\n",
       "      <td>27455.000000</td>\n",
       "    </tr>\n",
       "    <tr>\n",
       "      <th>mean</th>\n",
       "      <td>12.318813</td>\n",
       "      <td>145.419377</td>\n",
       "      <td>148.500273</td>\n",
       "      <td>151.247714</td>\n",
       "      <td>161.966454</td>\n",
       "      <td>161.137898</td>\n",
       "      <td>159.824731</td>\n",
       "    </tr>\n",
       "    <tr>\n",
       "      <th>std</th>\n",
       "      <td>7.287552</td>\n",
       "      <td>41.358555</td>\n",
       "      <td>39.942152</td>\n",
       "      <td>39.056286</td>\n",
       "      <td>63.298721</td>\n",
       "      <td>63.610415</td>\n",
       "      <td>64.396846</td>\n",
       "    </tr>\n",
       "    <tr>\n",
       "      <th>min</th>\n",
       "      <td>0.000000</td>\n",
       "      <td>0.000000</td>\n",
       "      <td>0.000000</td>\n",
       "      <td>0.000000</td>\n",
       "      <td>0.000000</td>\n",
       "      <td>0.000000</td>\n",
       "      <td>0.000000</td>\n",
       "    </tr>\n",
       "    <tr>\n",
       "      <th>25%</th>\n",
       "      <td>6.000000</td>\n",
       "      <td>121.000000</td>\n",
       "      <td>126.000000</td>\n",
       "      <td>130.000000</td>\n",
       "      <td>128.000000</td>\n",
       "      <td>128.000000</td>\n",
       "      <td>125.500000</td>\n",
       "    </tr>\n",
       "    <tr>\n",
       "      <th>50%</th>\n",
       "      <td>13.000000</td>\n",
       "      <td>150.000000</td>\n",
       "      <td>153.000000</td>\n",
       "      <td>156.000000</td>\n",
       "      <td>182.000000</td>\n",
       "      <td>182.000000</td>\n",
       "      <td>182.000000</td>\n",
       "    </tr>\n",
       "    <tr>\n",
       "      <th>75%</th>\n",
       "      <td>19.000000</td>\n",
       "      <td>174.000000</td>\n",
       "      <td>176.000000</td>\n",
       "      <td>178.000000</td>\n",
       "      <td>206.000000</td>\n",
       "      <td>204.000000</td>\n",
       "      <td>204.000000</td>\n",
       "    </tr>\n",
       "    <tr>\n",
       "      <th>max</th>\n",
       "      <td>24.000000</td>\n",
       "      <td>255.000000</td>\n",
       "      <td>255.000000</td>\n",
       "      <td>255.000000</td>\n",
       "      <td>255.000000</td>\n",
       "      <td>255.000000</td>\n",
       "      <td>255.000000</td>\n",
       "    </tr>\n",
       "  </tbody>\n",
       "</table>\n",
       "</div>"
      ],
      "text/plain": [
       "              label        pixel1  ...      pixel783      pixel784\n",
       "count  27455.000000  27455.000000  ...  27455.000000  27455.000000\n",
       "mean      12.318813    145.419377  ...    161.137898    159.824731\n",
       "std        7.287552     41.358555  ...     63.610415     64.396846\n",
       "min        0.000000      0.000000  ...      0.000000      0.000000\n",
       "25%        6.000000    121.000000  ...    128.000000    125.500000\n",
       "50%       13.000000    150.000000  ...    182.000000    182.000000\n",
       "75%       19.000000    174.000000  ...    204.000000    204.000000\n",
       "max       24.000000    255.000000  ...    255.000000    255.000000\n",
       "\n",
       "[8 rows x 7 columns]"
      ]
     },
     "execution_count": 12,
     "metadata": {
      "tags": []
     },
     "output_type": "execute_result"
    }
   ],
   "source": [
    "print(df_train[cols_selection].info())\r\n",
    "df_train[cols_selection].describe()"
   ]
  },
  {
   "cell_type": "markdown",
   "metadata": {
    "id": "JHGBLqHNOTtf"
   },
   "source": [
    "### Analyzing our labels and images"
   ]
  },
  {
   "cell_type": "markdown",
   "metadata": {
    "id": "H1Eumzzr2U3q"
   },
   "source": [
    "The letters are 25, from 'a' to 'z', corresponding to the American Sign Language.\r\n",
    "\r\n",
    "> *In this this dataset we got only 24 labels, skipping examples for letter 'J', which is label 9 and letter 'Z', which would be label 25. This is because these letters have gesture motions and cannot be represented with static images*\r\n",
    "\r\n"
   ]
  },
  {
   "cell_type": "code",
   "execution_count": 13,
   "metadata": {
    "colab": {
     "base_uri": "https://localhost:8080/"
    },
    "executionInfo": {
     "elapsed": 679,
     "status": "ok",
     "timestamp": 1610040082156,
     "user": {
      "displayName": "Hada Garcia",
      "photoUrl": "https://lh3.googleusercontent.com/a-/AOh14Gi5p64eWTKszDlj66P2U3dblSrqCuGP_A6Y9P01Xw=s64",
      "userId": "17697916405456863555"
     },
     "user_tz": -60
    },
    "id": "LphLLhxHxaPg",
    "outputId": "d8d88b69-3beb-45ca-f28e-4d4468e19fe0"
   },
   "outputs": [
    {
     "name": "stdout",
     "output_type": "stream",
     "text": [
      "We have 24 labels, from 0 to 24, skipping label 9\n",
      "[ 0  1  2  3  4  5  6  7  8 10 11 12 13 14 15 16 17 18 19 20 21 22 23 24]\n"
     ]
    }
   ],
   "source": [
    "# Getting our labels\r\n",
    "labels = df_train['label'].unique()\r\n",
    "print('We have {} labels, from {} to {}, skipping label 9'.format(len(labels), np.min(labels), np.max(labels)))\r\n",
    "print(np.sort(labels))\r\n",
    "num_classes = len(labels)"
   ]
  },
  {
   "cell_type": "code",
   "execution_count": 14,
   "metadata": {
    "executionInfo": {
     "elapsed": 781,
     "status": "ok",
     "timestamp": 1610040090712,
     "user": {
      "displayName": "Hada Garcia",
      "photoUrl": "https://lh3.googleusercontent.com/a-/AOh14Gi5p64eWTKszDlj66P2U3dblSrqCuGP_A6Y9P01Xw=s64",
      "userId": "17697916405456863555"
     },
     "user_tz": -60
    },
    "id": "PmdcvSzHDvGA"
   },
   "outputs": [],
   "source": [
    "# Let's also put the textual labels in a dictionary for later use:\r\n",
    "classes_labels = {\r\n",
    "    0: 'A',\r\n",
    "    1: 'B',\r\n",
    "    2: 'C',\r\n",
    "    3: 'D',\r\n",
    "    4: 'E',\r\n",
    "    5: 'F',\r\n",
    "    6: 'G',\r\n",
    "    7: 'H',\r\n",
    "    8: 'I',\r\n",
    "    9: 'J', # There are no examples for label 9\r\n",
    "    10: 'K',\r\n",
    "    11: 'L',\r\n",
    "    12: 'M',\r\n",
    "    13: 'N',\r\n",
    "    14: 'O',\r\n",
    "    15: 'P',\r\n",
    "    16: 'Q',\r\n",
    "    17: 'R',\r\n",
    "    18: 'S',\r\n",
    "    19: 'T',\r\n",
    "    20: 'U',\r\n",
    "    21: 'V',\r\n",
    "    22: 'W',\r\n",
    "    23: 'X',\r\n",
    "    24: 'Y'\r\n",
    "}"
   ]
  },
  {
   "cell_type": "code",
   "execution_count": null,
   "metadata": {
    "colab": {
     "base_uri": "https://localhost:8080/"
    },
    "executionInfo": {
     "elapsed": 805,
     "status": "ok",
     "timestamp": 1609939448976,
     "user": {
      "displayName": "Hada Garcia",
      "photoUrl": "https://lh3.googleusercontent.com/a-/AOh14Gi5p64eWTKszDlj66P2U3dblSrqCuGP_A6Y9P01Xw=s64",
      "userId": "17697916405456863555"
     },
     "user_tz": -60
    },
    "id": "HZGOu7plOoRs",
    "outputId": "f61fcf5c-f76c-46f2-b7f1-df70eaba2b59"
   },
   "outputs": [
    {
     "name": "stdout",
     "output_type": "stream",
     "text": [
      "0\n"
     ]
    }
   ],
   "source": [
    "# Here we can see we have no labels for 'J' which would correspond to label 9\r\n",
    "sign9 = df_train.loc[df_train['label'] == 9]\r\n",
    "print(len(sign9))"
   ]
  },
  {
   "cell_type": "code",
   "execution_count": null,
   "metadata": {
    "colab": {
     "base_uri": "https://localhost:8080/",
     "height": 282
    },
    "executionInfo": {
     "elapsed": 643,
     "status": "ok",
     "timestamp": 1609939451480,
     "user": {
      "displayName": "Hada Garcia",
      "photoUrl": "https://lh3.googleusercontent.com/a-/AOh14Gi5p64eWTKszDlj66P2U3dblSrqCuGP_A6Y9P01Xw=s64",
      "userId": "17697916405456863555"
     },
     "user_tz": -60
    },
    "id": "6xzqHx3yFwDB",
    "outputId": "8f9aaa2f-2a27-481c-aed4-a346ea303085"
   },
   "outputs": [
    {
     "name": "stdout",
     "output_type": "stream",
     "text": [
      "Label:  [8]\n"
     ]
    },
    {
     "data": {
      "image/png": "[encoded data removed]",
      "text/plain": [
       "<Figure size 432x288 with 1 Axes>"
      ]
     },
     "metadata": {
      "tags": []
     },
     "output_type": "display_data"
    }
   ],
   "source": [
    "sign8 = df_train.loc[df_train['label'] == 8]\r\n",
    "# Getting only the first example\r\n",
    "sign8_sample = sign8.head(1)\r\n",
    "sign_label = sign8_sample['label']\r\n",
    "sign_image = sign8_sample.drop(columns='label')\r\n",
    "# Some reshape\r\n",
    "sign_image = sign_image.values.reshape(28, 28)\r\n",
    "# Displaying a sample of letter 'I'\r\n",
    "show_sample(sign_image, sign_label.values)"
   ]
  },
  {
   "cell_type": "markdown",
   "metadata": {
    "id": "32xk3GqxPi40"
   },
   "source": [
    "From letter 'I' it jumps to letter 'K'"
   ]
  },
  {
   "cell_type": "code",
   "execution_count": null,
   "metadata": {
    "colab": {
     "base_uri": "https://localhost:8080/",
     "height": 282
    },
    "executionInfo": {
     "elapsed": 598,
     "status": "ok",
     "timestamp": 1609939455442,
     "user": {
      "displayName": "Hada Garcia",
      "photoUrl": "https://lh3.googleusercontent.com/a-/AOh14Gi5p64eWTKszDlj66P2U3dblSrqCuGP_A6Y9P01Xw=s64",
      "userId": "17697916405456863555"
     },
     "user_tz": -60
    },
    "id": "HRLUVle_QztL",
    "outputId": "7735d1b9-a845-403e-ef3a-8845230e9d2a"
   },
   "outputs": [
    {
     "name": "stdout",
     "output_type": "stream",
     "text": [
      "Label:  [10]\n"
     ]
    },
    {
     "data": {
      "image/png": "[encoded data removed]",
      "text/plain": [
       "<Figure size 432x288 with 1 Axes>"
      ]
     },
     "metadata": {
      "tags": []
     },
     "output_type": "display_data"
    }
   ],
   "source": [
    "sign10 = df_train.loc[df_train['label'] == 10]\r\n",
    "# Getting only the first example\r\n",
    "sign10_sample = sign10.head(1)\r\n",
    "sign_label = sign10_sample['label']\r\n",
    "sign_image = sign10_sample.drop(columns='label')\r\n",
    "# Some reshape\r\n",
    "sign_image = sign_image.values.reshape(28, 28)\r\n",
    "# Displaying a sample of letter 'I'\r\n",
    "show_sample(sign_image, sign_label.values)"
   ]
  },
  {
   "cell_type": "markdown",
   "metadata": {
    "id": "fI3EWOwWu_Fo"
   },
   "source": [
    "Test images\r\n",
    "\r\n",
    "We have 7172 entries and as we can see on the description table, there are also 24 labels."
   ]
  },
  {
   "cell_type": "code",
   "execution_count": null,
   "metadata": {
    "colab": {
     "base_uri": "https://localhost:8080/"
    },
    "executionInfo": {
     "elapsed": 1000,
     "status": "ok",
     "timestamp": 1609939459835,
     "user": {
      "displayName": "Hada Garcia",
      "photoUrl": "https://lh3.googleusercontent.com/a-/AOh14Gi5p64eWTKszDlj66P2U3dblSrqCuGP_A6Y9P01Xw=s64",
      "userId": "17697916405456863555"
     },
     "user_tz": -60
    },
    "id": "DpIO4sHivIHw",
    "outputId": "3e9856a1-4ad9-4541-ad99-04dbe8d83e5a"
   },
   "outputs": [
    {
     "name": "stdout",
     "output_type": "stream",
     "text": [
      "<class 'pandas.core.frame.DataFrame'>\n",
      "RangeIndex: 7172 entries, 0 to 7171\n",
      "Data columns (total 7 columns):\n",
      " #   Column    Non-Null Count  Dtype\n",
      "---  ------    --------------  -----\n",
      " 0   label     7172 non-null   int64\n",
      " 1   pixel1    7172 non-null   int64\n",
      " 2   pixel2    7172 non-null   int64\n",
      " 3   pixel3    7172 non-null   int64\n",
      " 4   pixel782  7172 non-null   int64\n",
      " 5   pixel783  7172 non-null   int64\n",
      " 6   pixel784  7172 non-null   int64\n",
      "dtypes: int64(7)\n",
      "memory usage: 392.3 KB\n",
      "None\n"
     ]
    }
   ],
   "source": [
    "print(df_test[cols_selection].info())"
   ]
  },
  {
   "cell_type": "code",
   "execution_count": null,
   "metadata": {
    "id": "5Gtk246PtpON"
   },
   "outputs": [],
   "source": [
    "y_train = df_train['label']\r\n",
    "y_test = df_test['label']"
   ]
  },
  {
   "cell_type": "markdown",
   "metadata": {
    "id": "lPZ8W8-t61Gg"
   },
   "source": [
    "To know if we have the same amount of train images for every label, let's plot it. If the difference is big, we would need to normalize the dataset."
   ]
  },
  {
   "cell_type": "code",
   "execution_count": null,
   "metadata": {
    "colab": {
     "base_uri": "https://localhost:8080/",
     "height": 334
    },
    "executionInfo": {
     "elapsed": 1375,
     "status": "ok",
     "timestamp": 1609939463306,
     "user": {
      "displayName": "Hada Garcia",
      "photoUrl": "https://lh3.googleusercontent.com/a-/AOh14Gi5p64eWTKszDlj66P2U3dblSrqCuGP_A6Y9P01Xw=s64",
      "userId": "17697916405456863555"
     },
     "user_tz": -60
    },
    "id": "qt9qluc6ASqj",
    "outputId": "d448d1dd-fa9d-4da9-815a-388281979bd3"
   },
   "outputs": [
    {
     "data": {
      "image/png": "[encoded data removed]",
      "text/plain": [
       "<Figure size 1296x360 with 2 Axes>"
      ]
     },
     "metadata": {
      "tags": []
     },
     "output_type": "display_data"
    }
   ],
   "source": [
    "max_train_samples = df_train.groupby('label')['pixel1'].count().max()\r\n",
    "min_train_samples = df_train.groupby('label')['pixel1'].count().min()\r\n",
    "max_test_samples = df_test.groupby('label')['pixel1'].count().max()\r\n",
    "min_test_samples = df_test.groupby('label')['pixel1'].count().min()\r\n",
    "\r\n",
    "fig, (plt1, plt2) = plt.subplots(1, 2, figsize = (18,5))\r\n",
    "fig.suptitle('Images count')\r\n",
    "\r\n",
    "sns.countplot(ax=plt1, x=y_train);\r\n",
    "plt1.set_title('Train (max: {}, min:{})'.format(max_train_samples, min_train_samples))\r\n",
    "\r\n",
    "sns.countplot(ax=plt2, x=y_test);\r\n",
    "plt2.set_title('Test (max: {}, min:{})'.format(max_test_samples, min_test_samples))\r\n",
    "\r\n",
    "plt.tight_layout(pad=5, w_pad=5)"
   ]
  },
  {
   "cell_type": "markdown",
   "metadata": {
    "id": "Y6Z48eafUPlF"
   },
   "source": [
    "The training data seems to be balanced, meaning for each training label there are enough examples. Validation data seems to be a bit more unbalanced, but this is not really a big deal for validation phase."
   ]
  },
  {
   "cell_type": "markdown",
   "metadata": {
    "id": "ZM_R08Eatf-u"
   },
   "source": [
    "## **3. Creating Datasets and Data Loaders**\r\n",
    "\r\n"
   ]
  },
  {
   "cell_type": "markdown",
   "metadata": {
    "id": "p4OqXd2xdpAS"
   },
   "source": [
    "### Custom dataset\r\n",
    "\r\n",
    "We can now create a custom dataset by extending the `Dataset` class from PyTorch. We need to define the `__len__` and `__getitem__` methods to create a dataset. We'll also provide the option of adding transforms into the constructor."
   ]
  },
  {
   "cell_type": "code",
   "execution_count": 16,
   "metadata": {
    "executionInfo": {
     "elapsed": 766,
     "status": "ok",
     "timestamp": 1610040216161,
     "user": {
      "displayName": "Hada Garcia",
      "photoUrl": "https://lh3.googleusercontent.com/a-/AOh14Gi5p64eWTKszDlj66P2U3dblSrqCuGP_A6Y9P01Xw=s64",
      "userId": "17697916405456863555"
     },
     "user_tz": -60
    },
    "id": "dQOfol1kUenQ"
   },
   "outputs": [],
   "source": [
    "class HandSignsDataset(Dataset):\r\n",
    "  def __init__(self, csv_file, transform=None):\r\n",
    "    self.df = pd.read_csv(csv_file)\r\n",
    "    self.transform = transform\r\n",
    "  \r\n",
    "  def __len__(self):\r\n",
    "    return len(self.df)\r\n",
    "  \r\n",
    "  def __getitem__(self, idx):\r\n",
    "    row = self.df.loc[idx]\r\n",
    "    img, img_label = row[map(lambda x :x not in ['label'], list(self.df.columns))], row['label']\r\n",
    "\r\n",
    "    img = img.astype(np.uint8)\r\n",
    "    img = np.array([img])\r\n",
    "\r\n",
    "    # Reshape to 28 x 28\r\n",
    "    img = img.reshape(28, 28, -1)\r\n",
    "\r\n",
    "    if self.transform:\r\n",
    "      img = self.transform(img)\r\n",
    "    return img, img_label"
   ]
  },
  {
   "cell_type": "markdown",
   "metadata": {
    "id": "85133Z9PkjE-"
   },
   "source": [
    "### Preview of images\r\n",
    "\r\n",
    "We'll apply some transformations to data in order to improve the training and avoid overfitting. For this reason, I'll display a batch of images first and another after transformations."
   ]
  },
  {
   "cell_type": "markdown",
   "metadata": {
    "id": "5Dwm1e0pnN7X"
   },
   "source": [
    "Images without transformations"
   ]
  },
  {
   "cell_type": "code",
   "execution_count": null,
   "metadata": {
    "colab": {
     "base_uri": "https://localhost:8080/",
     "height": 306
    },
    "executionInfo": {
     "elapsed": 13911,
     "status": "ok",
     "timestamp": 1609939495611,
     "user": {
      "displayName": "Hada Garcia",
      "photoUrl": "https://lh3.googleusercontent.com/a-/AOh14Gi5p64eWTKszDlj66P2U3dblSrqCuGP_A6Y9P01Xw=s64",
      "userId": "17697916405456863555"
     },
     "user_tz": -60
    },
    "id": "s-eJyIyEe1Xy",
    "outputId": "1de1b2b3-8fb0-4540-cafe-ce41ad1272ef"
   },
   "outputs": [
    {
     "data": {
      "image/png": "[encoded data removed]",
      "text/plain": [
       "<Figure size 1080x360 with 1 Axes>"
      ]
     },
     "metadata": {
      "tags": []
     },
     "output_type": "display_data"
    }
   ],
   "source": [
    "sampleDataset = HandSignsDataset(TRAIN_CSV, transforms.Compose([transforms.ToTensor()]))\r\n",
    "sample_dl = DataLoader(sampleDataset, 32, num_workers=1, pin_memory=True)\r\n",
    "show_batch(sample_dl, 8, (15, 5))"
   ]
  },
  {
   "cell_type": "markdown",
   "metadata": {
    "id": "szwJRlnjomEH"
   },
   "source": [
    "### Data augmentation\r\n",
    "\r\n",
    "We will apply randomly chosen transformations while loading images from the training dataset. Specifically, we will pad each image by 4 pixels, and then take a random crop of size 28 x 28 pixels, and then flip the image horizontally with a 50% probability. Since the transformation will be applied randomly and dynamically each time a particular image is loaded, the model sees slightly different images in each epoch of training, which allows it generalize better.\r\n",
    "\r\n",
    "Since we have nparrays on the range [0, 255] and torchvision transformations accept only `PIL Images` as input, the first transformation to be applied will be `transform.ToPILImage()`"
   ]
  },
  {
   "cell_type": "code",
   "execution_count": 18,
   "metadata": {
    "executionInfo": {
     "elapsed": 818,
     "status": "ok",
     "timestamp": 1610040256463,
     "user": {
      "displayName": "Hada Garcia",
      "photoUrl": "https://lh3.googleusercontent.com/a-/AOh14Gi5p64eWTKszDlj66P2U3dblSrqCuGP_A6Y9P01Xw=s64",
      "userId": "17697916405456863555"
     },
     "user_tz": -60
    },
    "id": "tXWFh2Mo9KFc"
   },
   "outputs": [],
   "source": [
    "train_transforms = transforms.Compose([transforms.ToPILImage(),\r\n",
    "                                transforms.RandomCrop(28, padding=4, padding_mode='reflect'),\r\n",
    "                                transforms.RandomHorizontalFlip(),\r\n",
    "                                transforms.ToTensor()])\r\n",
    "\r\n",
    "# Transformations are applied only to train dataset, to validate we need the original images.\r\n",
    "valid_transforms = transforms.Compose([transforms.ToTensor()])"
   ]
  },
  {
   "cell_type": "code",
   "execution_count": null,
   "metadata": {
    "id": "SVSJGrKgIiiC"
   },
   "outputs": [],
   "source": [
    "sampleTransformedDataset = HandSignsDataset(TRAIN_CSV, transform=train_transforms)"
   ]
  },
  {
   "cell_type": "markdown",
   "metadata": {
    "id": "DvPBpmVW8aPE"
   },
   "source": [
    "Images after transformations were applied"
   ]
  },
  {
   "cell_type": "code",
   "execution_count": null,
   "metadata": {
    "colab": {
     "base_uri": "https://localhost:8080/",
     "height": 306
    },
    "executionInfo": {
     "elapsed": 1559,
     "status": "ok",
     "timestamp": 1609939519425,
     "user": {
      "displayName": "Hada Garcia",
      "photoUrl": "https://lh3.googleusercontent.com/a-/AOh14Gi5p64eWTKszDlj66P2U3dblSrqCuGP_A6Y9P01Xw=s64",
      "userId": "17697916405456863555"
     },
     "user_tz": -60
    },
    "id": "0W0nINZGr3UY",
    "outputId": "4f222b58-a812-457b-ccce-8a526170dc20"
   },
   "outputs": [
    {
     "data": {
      "image/png": "[encoded data removed]",
      "text/plain": [
       "<Figure size 1080x360 with 1 Axes>"
      ]
     },
     "metadata": {
      "tags": []
     },
     "output_type": "display_data"
    }
   ],
   "source": [
    "sampleTrans_dl = DataLoader(sampleTransformedDataset, 32, num_workers=1, pin_memory=True)\r\n",
    "show_batch(sampleTrans_dl, 8, (15, 5))"
   ]
  },
  {
   "cell_type": "markdown",
   "metadata": {
    "id": "VUgOyqHCfamz"
   },
   "source": [
    "### Training & Validation sets\r\n",
    "\r\n",
    "One good strategy is to determine a good set of hyperparameters and then retrain on a smaller validation set, normally a validation percentage of 10% is used.\r\n",
    "\r\n",
    "On previous models it was a good practice to split the data into training and validation datasets using the strategy mentioned above. Now we'll use a more robust model where also transformations have been added to the test images, so this give us enough data for the training already. That's why we'll use the test data as our validation set. \r\n",
    "\r\n",
    "Maybe on later versions the strategy to split the dataset can be used to tune and improve the accuracy.\r\n"
   ]
  },
  {
   "cell_type": "code",
   "execution_count": 19,
   "metadata": {
    "executionInfo": {
     "elapsed": 3470,
     "status": "ok",
     "timestamp": 1610040275643,
     "user": {
      "displayName": "Hada Garcia",
      "photoUrl": "https://lh3.googleusercontent.com/a-/AOh14Gi5p64eWTKszDlj66P2U3dblSrqCuGP_A6Y9P01Xw=s64",
      "userId": "17697916405456863555"
     },
     "user_tz": -60
    },
    "id": "fkjNQBP_gjDG"
   },
   "outputs": [],
   "source": [
    "train_ds = HandSignsDataset(TRAIN_CSV, transform=train_transforms)\r\n",
    "valid_ds = HandSignsDataset(TEST_CSV, transform=valid_transforms)"
   ]
  },
  {
   "cell_type": "markdown",
   "metadata": {
    "id": "zrziFOgFdtfF"
   },
   "source": [
    "### Data Loaders\r\n",
    "\r\n",
    "Once we have the `train_ds` and `valid_ds`, we can create data loaders for retrieving images in batches. \r\n",
    "We'll use a relatively large batch size of 128 to utlize a larger portion of the GPU RAM. You can try reducing the batch size & restarting the kernel if you face an \"out of memory\" error.\r\n",
    "\r\n",
    "`shuffle=True` is only required for the training data loader, since it helps to improve the training, is not really needed for the validation."
   ]
  },
  {
   "cell_type": "code",
   "execution_count": 20,
   "metadata": {
    "executionInfo": {
     "elapsed": 783,
     "status": "ok",
     "timestamp": 1610040387175,
     "user": {
      "displayName": "Hada Garcia",
      "photoUrl": "https://lh3.googleusercontent.com/a-/AOh14Gi5p64eWTKszDlj66P2U3dblSrqCuGP_A6Y9P01Xw=s64",
      "userId": "17697916405456863555"
     },
     "user_tz": -60
    },
    "id": "nn1tAV2gdwjn"
   },
   "outputs": [],
   "source": [
    "batch_size = 128"
   ]
  },
  {
   "cell_type": "code",
   "execution_count": 21,
   "metadata": {
    "colab": {
     "base_uri": "https://localhost:8080/"
    },
    "executionInfo": {
     "elapsed": 720,
     "status": "ok",
     "timestamp": 1610040391687,
     "user": {
      "displayName": "Hada Garcia",
      "photoUrl": "https://lh3.googleusercontent.com/a-/AOh14Gi5p64eWTKszDlj66P2U3dblSrqCuGP_A6Y9P01Xw=s64",
      "userId": "17697916405456863555"
     },
     "user_tz": -60
    },
    "id": "Ad5R6ZGCd2PI",
    "outputId": "42a5409b-373c-41a3-e58e-480382284ec6"
   },
   "outputs": [
    {
     "data": {
      "text/plain": [
       "(215, 29)"
      ]
     },
     "execution_count": 21,
     "metadata": {
      "tags": []
     },
     "output_type": "execute_result"
    }
   ],
   "source": [
    "# PyTorch data loaders\r\n",
    "train_dl = DataLoader(train_ds, batch_size, shuffle=True, num_workers=2, pin_memory=True)\r\n",
    "valid_dl = DataLoader(valid_ds, batch_size*2, num_workers=3, pin_memory=True)\r\n",
    "len(train_dl), len(valid_dl)"
   ]
  },
  {
   "cell_type": "markdown",
   "metadata": {
    "id": "nfXoh3MUr-tU"
   },
   "source": [
    "## **4. Define the Model**\r\n",
    "\r\n",
    "One change we can add to a CNN model is the addition of a residual block, which adds the original input back to the output feature map obtained by passing the input one or more convolutional layers.\r\n",
    "This is called a ResNet or Residual blocks.\r\n",
    "\r\n",
    "<div style='display: flex' align='center'>\r\n",
    "<img src=\"https://upload.wikimedia.org/wikipedia/commons/5/59/Resnet.png\"/>\r\n",
    "</div>\r\n",
    "\r\n",
    "We'll use an arquitecture with some convolution layers. \r\n",
    "Why convolution layers? because of their ability to capture local information and reduce the number of parameters with weight sharing, \r\n",
    "almost all vision-based models (and a few NLP-models) use convolutions of one form or the other."
   ]
  },
  {
   "cell_type": "markdown",
   "metadata": {
    "id": "pUCiRU0YZjhb"
   },
   "source": [
    "**Example of a Simple Residual Block**"
   ]
  },
  {
   "cell_type": "code",
   "execution_count": 22,
   "metadata": {
    "executionInfo": {
     "elapsed": 926,
     "status": "ok",
     "timestamp": 1610040437023,
     "user": {
      "displayName": "Hada Garcia",
      "photoUrl": "https://lh3.googleusercontent.com/a-/AOh14Gi5p64eWTKszDlj66P2U3dblSrqCuGP_A6Y9P01Xw=s64",
      "userId": "17697916405456863555"
     },
     "user_tz": -60
    },
    "id": "AK3SDiMytq6z"
   },
   "outputs": [],
   "source": [
    "class SimpleResidualBlock(nn.Module):\r\n",
    "  def __init__(self):\r\n",
    "    super().__init__()\r\n",
    "    # We'll apply 2 convolutional layers, without modifying the tensor shape,\r\n",
    "    # because we'll add the 'x' identity to the output of the second ReLU layer.\r\n",
    "    self.conv1 = nn.Conv2d(1, 1, kernel_size=3, stride=1, padding=1)\r\n",
    "    self.relu1 = nn.ReLU()\r\n",
    "    self.conv2 = nn.Conv2d(1, 1, kernel_size=3, stride=1, padding=1)\r\n",
    "    self.relu2 = nn.ReLU()\r\n",
    "  \r\n",
    "  def forward(self, x):\r\n",
    "    out = self.conv1(x)\r\n",
    "    out = self.relu1(out)\r\n",
    "    out = self.conv2(out)\r\n",
    "    # Adding the 'x' input, for this operation both tensor shapes should be compatible.\r\n",
    "    out = self.relu2(out) + x\r\n",
    "    return out"
   ]
  },
  {
   "cell_type": "markdown",
   "metadata": {
    "id": "Y7WPXjjXfAn1"
   },
   "source": [
    "**ResNet9 Architecture**\r\n",
    "\r\n",
    "Now that the ``` SimpleResidualBlock ``` class has been defined and is working properly, it's possible to think about a more robust model, where we can pile several residual blocks.\r\n",
    "\r\n",
    "![resnet-9](https://github.com/lambdal/cifar10-fast/raw/master/net.svg?sanitize=true)\r\n",
    "\r\n"
   ]
  },
  {
   "cell_type": "code",
   "execution_count": 27,
   "metadata": {
    "executionInfo": {
     "elapsed": 799,
     "status": "ok",
     "timestamp": 1610040648707,
     "user": {
      "displayName": "Hada Garcia",
      "photoUrl": "https://lh3.googleusercontent.com/a-/AOh14Gi5p64eWTKszDlj66P2U3dblSrqCuGP_A6Y9P01Xw=s64",
      "userId": "17697916405456863555"
     },
     "user_tz": -60
    },
    "id": "ia0_S-KVjx1q"
   },
   "outputs": [],
   "source": [
    "# Helper function to calculate the accuracy\r\n",
    "def accuracy(outputs, labels):\r\n",
    "  _, preds = torch.max(outputs, dim=1)\r\n",
    "  return torch.tensor(torch.sum(preds == labels).item() / len(preds))\r\n",
    "\r\n",
    "class HandSignsClassificationBase(nn.Module):\r\n",
    "  def training_step(self, batch):\r\n",
    "    images, labels = batch\r\n",
    "    out = self(images)\r\n",
    "    loss = F.cross_entropy(out, labels)\r\n",
    "    return loss\r\n",
    "\r\n",
    "  def validation_step(self, batch):\r\n",
    "    images, labels = batch\r\n",
    "    out = self(images)\r\n",
    "    loss = F.cross_entropy(out, labels)\r\n",
    "    acc = accuracy(out, labels)\r\n",
    "    return {'val_loss': loss.detach(), 'val_acc': acc}\r\n",
    "\r\n",
    "  # Logging functions validation_epoch_end and epoch_end.\r\n",
    "  # it's important to track the accuracy and loss for each epoch.\r\n",
    "  def validation_epoch_end(self, outputs):\r\n",
    "    batch_losses = [x['val_loss'] for x in outputs]\r\n",
    "    epoch_loss = torch.stack(batch_losses).mean()   # Combine losses\r\n",
    "    batch_accs = [x['val_acc'] for x in outputs]\r\n",
    "    epoch_acc = torch.stack(batch_accs).mean()      # Combine accuracies\r\n",
    "    return {'val_loss': epoch_loss.item(), 'val_acc': epoch_acc.item()}\r\n",
    "\r\n",
    "  def epoch_end(self, epoch, result):\r\n",
    "        print(\"Epoch [{}], last_lr: {:.5f}, train_loss: {:.4f}, val_loss: {:.4f}, val_acc: {:.4f}\".format(\r\n",
    "            epoch, result['lrs'][-1], result['train_loss'], result['val_loss'], result['val_acc']))"
   ]
  },
  {
   "cell_type": "markdown",
   "metadata": {
    "id": "XAFJU-MAnVvv"
   },
   "source": [
    "As we see on the architecture graphic, we also have convolution blocks. Here we'll define this blocks and the whole ResNet9 model"
   ]
  },
  {
   "cell_type": "code",
   "execution_count": 28,
   "metadata": {
    "executionInfo": {
     "elapsed": 934,
     "status": "ok",
     "timestamp": 1610040655750,
     "user": {
      "displayName": "Hada Garcia",
      "photoUrl": "https://lh3.googleusercontent.com/a-/AOh14Gi5p64eWTKszDlj66P2U3dblSrqCuGP_A6Y9P01Xw=s64",
      "userId": "17697916405456863555"
     },
     "user_tz": -60
    },
    "id": "6QEclULGnR1G"
   },
   "outputs": [],
   "source": [
    "# Convolution block\r\n",
    "def conv_block(in_channels, out_channels, pool=False):\r\n",
    "  layers = [nn.Conv2d(in_channels, out_channels, kernel_size=3, padding=1),\r\n",
    "            nn.BatchNorm2d(out_channels),\r\n",
    "            nn.ReLU(inplace=True)]\r\n",
    "  if pool: layers.append(nn.MaxPool2d(2))\r\n",
    "  return nn.Sequential(*layers)\r\n",
    "\r\n",
    "# ResNet9 Model\r\n",
    "class ResNet9(HandSignsClassificationBase):\r\n",
    "  def __init__(self, in_channels, num_classes):\r\n",
    "    super().__init__()\r\n",
    "\r\n",
    "    self.conv1 = conv_block(in_channels, 64)\r\n",
    "    self.conv2 = conv_block(64, 128, pool=True)\r\n",
    "    self.res1  = nn.Sequential(conv_block(128, 128), conv_block(128, 128))\r\n",
    "\r\n",
    "    self.conv3 = conv_block(128, 256, pool=True)\r\n",
    "    self.conv4 = conv_block(256, 512, pool=True)\r\n",
    "    self.res2  = nn.Sequential(conv_block(512, 512), conv_block(512, 512))\r\n",
    "\r\n",
    "    self.classifier = nn.Sequential(nn.MaxPool2d(3), #4 , out (3, 3)\r\n",
    "                                    nn.Flatten(),\r\n",
    "                                    nn.Dropout(0.2),\r\n",
    "                                    nn.Linear(512, num_classes))\r\n",
    "  def forward(self, xb):\r\n",
    "    # --------- Prep ----------\r\n",
    "    out = self.conv1(xb) # ( 1 )\r\n",
    "    # -------------------------\r\n",
    "\r\n",
    "    # ------- Layer 1 ---------\r\n",
    "    resOut1 = self.conv2(out) # ( 2 )\r\n",
    "    out = self.res1(resOut1) + resOut1 # ( 3, 4 )\r\n",
    "    # -------------------------\r\n",
    "\r\n",
    "    # ------- Layer 2 ---------\r\n",
    "    out = self.conv3(out) # ( 5 )\r\n",
    "    # -------------------------\r\n",
    "\r\n",
    "    # ------- Layer 3 ---------\r\n",
    "    resOut2 = self.conv4(out) # ( 6 )\r\n",
    "    out = self.res2(resOut2) + resOut2 # ( 7, 8 )\r\n",
    "    # -------------------------\r\n",
    "\r\n",
    "    # ------ Classifier -------\r\n",
    "    out = self.classifier(out) # ( 9 )\r\n",
    "    # -------------------------\r\n",
    "\r\n",
    "    return out"
   ]
  },
  {
   "cell_type": "markdown",
   "metadata": {
    "id": "8NMYj4f0i66k"
   },
   "source": [
    "### Using a GPU\r\n",
    "\r\n",
    "Here I'll define a couple of helper functions and a helper class to move our model & data to the GPU. This will improve our training time considerely."
   ]
  },
  {
   "cell_type": "markdown",
   "metadata": {
    "id": "YLfjAh4R_czI"
   },
   "source": [
    "To use a GPU, we define a couple of helper functions (`\r\n",
    "get_default_device` and `to_device`) as well as a helper class `DeviceDataLoader` to move the model & data to GPU as required."
   ]
  },
  {
   "cell_type": "code",
   "execution_count": 24,
   "metadata": {
    "executionInfo": {
     "elapsed": 759,
     "status": "ok",
     "timestamp": 1610040544239,
     "user": {
      "displayName": "Hada Garcia",
      "photoUrl": "https://lh3.googleusercontent.com/a-/AOh14Gi5p64eWTKszDlj66P2U3dblSrqCuGP_A6Y9P01Xw=s64",
      "userId": "17697916405456863555"
     },
     "user_tz": -60
    },
    "id": "G_CKSgi4_Twj"
   },
   "outputs": [],
   "source": [
    "def get_default_device():\r\n",
    "    \"\"\"Pick GPU if available, else CPU\"\"\"\r\n",
    "    if torch.cuda.is_available():\r\n",
    "        return torch.device('cuda')\r\n",
    "    else:\r\n",
    "        return torch.device('cpu')\r\n",
    "    \r\n",
    "def to_device(data, device):\r\n",
    "    \"\"\"Move tensor(s) to chosen device\"\"\"\r\n",
    "    if isinstance(data, (list,tuple)):\r\n",
    "        return [to_device(x, device) for x in data]\r\n",
    "    return data.to(device, non_blocking=True)\r\n",
    "\r\n",
    "class DeviceDataLoader():\r\n",
    "    \"\"\"Wrap a dataloader to move data to a device\"\"\"\r\n",
    "    def __init__(self, dl, device):\r\n",
    "        self.dl = dl\r\n",
    "        self.device = device\r\n",
    "        \r\n",
    "    def __iter__(self):\r\n",
    "        \"\"\"Yield a batch of data after moving it to device\"\"\"\r\n",
    "        for b in self.dl: \r\n",
    "            yield to_device(b, self.device)\r\n",
    "\r\n",
    "    def __len__(self):\r\n",
    "        \"\"\"Number of batches\"\"\"\r\n",
    "        return len(self.dl)"
   ]
  },
  {
   "cell_type": "code",
   "execution_count": 25,
   "metadata": {
    "colab": {
     "base_uri": "https://localhost:8080/"
    },
    "executionInfo": {
     "elapsed": 821,
     "status": "ok",
     "timestamp": 1610040549078,
     "user": {
      "displayName": "Hada Garcia",
      "photoUrl": "https://lh3.googleusercontent.com/a-/AOh14Gi5p64eWTKszDlj66P2U3dblSrqCuGP_A6Y9P01Xw=s64",
      "userId": "17697916405456863555"
     },
     "user_tz": -60
    },
    "id": "olm1ZxdrA21E",
    "outputId": "cc3d368e-6b85-4d71-9b87-9a3e921563f8"
   },
   "outputs": [
    {
     "data": {
      "text/plain": [
       "device(type='cuda')"
      ]
     },
     "execution_count": 25,
     "metadata": {
      "tags": []
     },
     "output_type": "execute_result"
    }
   ],
   "source": [
    "device = get_default_device()\r\n",
    "device"
   ]
  },
  {
   "cell_type": "markdown",
   "metadata": {
    "id": "bGLICaRMAiwl"
   },
   "source": [
    "Moving model and data loaders to GPU"
   ]
  },
  {
   "cell_type": "code",
   "execution_count": 26,
   "metadata": {
    "executionInfo": {
     "elapsed": 912,
     "status": "ok",
     "timestamp": 1610040568109,
     "user": {
      "displayName": "Hada Garcia",
      "photoUrl": "https://lh3.googleusercontent.com/a-/AOh14Gi5p64eWTKszDlj66P2U3dblSrqCuGP_A6Y9P01Xw=s64",
      "userId": "17697916405456863555"
     },
     "user_tz": -60
    },
    "id": "4BzI7zc_Am6E"
   },
   "outputs": [],
   "source": [
    "# Data loaders\r\n",
    "train_dl = DeviceDataLoader(train_dl, device)\r\n",
    "valid_dl = DeviceDataLoader(valid_dl, device)\r\n",
    "\r\n",
    "# Model\r\n",
    "model = to_device(ResNet9(1, num_classes + 1), device)"
   ]
  },
  {
   "cell_type": "code",
   "execution_count": null,
   "metadata": {
    "colab": {
     "base_uri": "https://localhost:8080/"
    },
    "executionInfo": {
     "elapsed": 1150,
     "status": "ok",
     "timestamp": 1609960602068,
     "user": {
      "displayName": "Hada Garcia",
      "photoUrl": "https://lh3.googleusercontent.com/a-/AOh14Gi5p64eWTKszDlj66P2U3dblSrqCuGP_A6Y9P01Xw=s64",
      "userId": "17697916405456863555"
     },
     "user_tz": -60
    },
    "id": "DdEv8d_l9ai8",
    "outputId": "dba213d8-eff2-4b5d-8228-fa7e16570453"
   },
   "outputs": [
    {
     "name": "stdout",
     "output_type": "stream",
     "text": [
      "images.shape: torch.Size([128, 1, 28, 28])\n",
      "out.shape: torch.Size([128, 25])\n",
      "out[0]: tensor([-0.4201, -1.6182, -1.6038,  1.7286,  2.4099,  1.8298, -2.2566, -0.8477,\n",
      "         2.3302, -1.5052, -0.2372,  1.2969,  0.1482, -1.1375,  0.2694,  1.8261,\n",
      "         0.1781, -0.9519,  2.1320, -0.4234, -3.2407, -2.1837, -1.8044, -1.3281,\n",
      "         0.2385], device='cuda:0', grad_fn=<SelectBackward>)\n"
     ]
    }
   ],
   "source": [
    "# Testing the model\r\n",
    "for images, labels in train_dl:\r\n",
    "    print('images.shape:', images.shape)\r\n",
    "    out = model(images)\r\n",
    "    print('out.shape:', out.shape)\r\n",
    "    print('out[0]:', out[0])\r\n",
    "    break"
   ]
  },
  {
   "cell_type": "markdown",
   "metadata": {
    "id": "-_S_x4ouCkBv"
   },
   "source": [
    "## **5. Training the model**\r\n",
    "\r\n",
    "Before I start training the model, there still one improvement I'd like to add.\r\n",
    "\r\n",
    "I always had the question of how to set the learning rate or which was the best number. Till I've learned about the **\"One Cycle Learning Rate Policy\"**, which involves starting with a low learning rate, gradually increasing it batch-by-batch to a high learning rate for about 30% of epochs, than gradually decreasing it to a very low value for the remaining epochs.\r\n",
    "\r\n",
    "Another tecniques to be used are: Weight decay and Gradient clipping."
   ]
  },
  {
   "cell_type": "code",
   "execution_count": 31,
   "metadata": {
    "executionInfo": {
     "elapsed": 683,
     "status": "ok",
     "timestamp": 1610040779860,
     "user": {
      "displayName": "Hada Garcia",
      "photoUrl": "https://lh3.googleusercontent.com/a-/AOh14Gi5p64eWTKszDlj66P2U3dblSrqCuGP_A6Y9P01Xw=s64",
      "userId": "17697916405456863555"
     },
     "user_tz": -60
    },
    "id": "EXi6reypIhcY"
   },
   "outputs": [],
   "source": [
    "@torch.no_grad()\r\n",
    "def evaluate(model, val_loader):\r\n",
    "  model.eval()\r\n",
    "  outputs = [model.validation_step(batch) for batch in val_loader]\r\n",
    "  return model.validation_epoch_end(outputs)\r\n",
    "\r\n",
    "def get_lr(optimizer):\r\n",
    "  for param_group in optimizer.param_groups:\r\n",
    "    return param_group['lr']\r\n",
    "\r\n",
    "def fit_one_cycle(epochs, max_lr, model, train_loader, val_loader, weight_decay=0, grad_clip=None, opt_func=torch.optim.SGD):\r\n",
    "  torch.cuda.empty_cache()\r\n",
    "  history = []\r\n",
    "\r\n",
    "  # Set up custom optimizer with weight decay\r\n",
    "  optimizer = opt_func(model.parameters(), max_lr, weight_decay=weight_decay)\r\n",
    "\r\n",
    "  # Set up one-cycle learning rate scheduler\r\n",
    "  scheduler = torch.optim.lr_scheduler.OneCycleLR(optimizer, max_lr, epochs=epochs, steps_per_epoch=len(train_loader))\r\n",
    "\r\n",
    "  for epoch in range(epochs):\r\n",
    "    # Training phase\r\n",
    "    model.train()\r\n",
    "    train_losses = []\r\n",
    "    lrs = []\r\n",
    "    for batch in train_loader:\r\n",
    "      loss = model.training_step(batch)\r\n",
    "      train_losses.append(loss)\r\n",
    "      loss.backward()\r\n",
    "\r\n",
    "      # Gradient clipping\r\n",
    "      if grad_clip:\r\n",
    "        nn.utils.clip_grad_value_(model.parameters(), grad_clip)\r\n",
    "      \r\n",
    "      optimizer.step()\r\n",
    "      optimizer.zero_grad()\r\n",
    "\r\n",
    "      # Record & update learning rate\r\n",
    "      lrs.append(get_lr(optimizer))\r\n",
    "      scheduler.step()\r\n",
    "    \r\n",
    "    # Validation phase\r\n",
    "    result = evaluate(model, val_loader)\r\n",
    "    result['train_loss'] = torch.stack(train_losses).mean().item()\r\n",
    "    result['lrs'] = lrs\r\n",
    "    model.epoch_end(epoch, result)\r\n",
    "    history.append(result)\r\n",
    "\r\n",
    "  return history"
   ]
  },
  {
   "cell_type": "code",
   "execution_count": null,
   "metadata": {
    "colab": {
     "base_uri": "https://localhost:8080/"
    },
    "executionInfo": {
     "elapsed": 5498,
     "status": "ok",
     "timestamp": 1609960620292,
     "user": {
      "displayName": "Hada Garcia",
      "photoUrl": "https://lh3.googleusercontent.com/a-/AOh14Gi5p64eWTKszDlj66P2U3dblSrqCuGP_A6Y9P01Xw=s64",
      "userId": "17697916405456863555"
     },
     "user_tz": -60
    },
    "id": "KBW4vrdkNPcO",
    "outputId": "903f7584-a0b0-4ca4-eb19-c8219fba882d"
   },
   "outputs": [
    {
     "data": {
      "text/plain": [
       "[{'val_acc': 0.022090516984462738, 'val_loss': 3.2158782482147217}]"
      ]
     },
     "execution_count": 68,
     "metadata": {
      "tags": []
     },
     "output_type": "execute_result"
    }
   ],
   "source": [
    "history = [evaluate(model, valid_dl)]\r\n",
    "history"
   ]
  },
  {
   "cell_type": "markdown",
   "metadata": {
    "id": "bgaQnyuQIt0Y"
   },
   "source": [
    "Now everything is set to start to train the model, instead of using SGD, Adam optimizer will be used because implements techniques like momentum and adaptive learning rates for faster training."
   ]
  },
  {
   "cell_type": "code",
   "execution_count": null,
   "metadata": {
    "id": "wGmv0MdLIZIY"
   },
   "outputs": [],
   "source": [
    "epochs = 5\r\n",
    "max_lr = 0.01\r\n",
    "grad_clip = 0.1\r\n",
    "weight_decay = 1e-4\r\n",
    "opt_func = torch.optim.Adam"
   ]
  },
  {
   "cell_type": "code",
   "execution_count": null,
   "metadata": {
    "colab": {
     "base_uri": "https://localhost:8080/"
    },
    "executionInfo": {
     "elapsed": 149575,
     "status": "ok",
     "timestamp": 1609961167664,
     "user": {
      "displayName": "Hada Garcia",
      "photoUrl": "https://lh3.googleusercontent.com/a-/AOh14Gi5p64eWTKszDlj66P2U3dblSrqCuGP_A6Y9P01Xw=s64",
      "userId": "17697916405456863555"
     },
     "user_tz": -60
    },
    "id": "jam4i5t4JPLx",
    "outputId": "403aee70-8aa6-4a9c-928d-537955a20fa5"
   },
   "outputs": [
    {
     "name": "stdout",
     "output_type": "stream",
     "text": [
      "Epoch [0], last_lr: 0.00759, train_loss: 0.8809, val_loss: 1.4363, val_acc: 0.6659\n",
      "Epoch [1], last_lr: 0.00950, train_loss: 0.1475, val_loss: 2.5507, val_acc: 0.4355\n",
      "Epoch [2], last_lr: 0.00611, train_loss: 0.0293, val_loss: 0.0761, val_acc: 0.9758\n",
      "Epoch [3], last_lr: 0.00188, train_loss: 0.0025, val_loss: 0.0007, val_acc: 1.0000\n",
      "Epoch [4], last_lr: 0.00000, train_loss: 0.0005, val_loss: 0.0003, val_acc: 1.0000\n",
      "CPU times: user 22.8 s, sys: 2.23 s, total: 25 s\n",
      "Wall time: 2min 28s\n"
     ]
    }
   ],
   "source": [
    "%%time\r\n",
    "history += fit_one_cycle(epochs, max_lr, model, train_dl, valid_dl, grad_clip=grad_clip, weight_decay=weight_decay, opt_func=opt_func)"
   ]
  },
  {
   "cell_type": "code",
   "execution_count": null,
   "metadata": {
    "id": "hwC7wMddMW9m"
   },
   "outputs": [],
   "source": [
    "train_time = '2min 28s'"
   ]
  },
  {
   "cell_type": "markdown",
   "metadata": {
    "id": "109wLRIAM-EH"
   },
   "source": [
    "Let's plot the metrics to see how the trainig behaved"
   ]
  },
  {
   "cell_type": "code",
   "execution_count": null,
   "metadata": {
    "id": "D6kcJta5NDnQ"
   },
   "outputs": [],
   "source": [
    "def plot_accuracies(history):\r\n",
    "    accuracies = [x['val_acc'] for x in history]\r\n",
    "    plt.plot(accuracies, '-x')\r\n",
    "    plt.xlabel('epoch')\r\n",
    "    plt.ylabel('accuracy')\r\n",
    "    plt.title('Accuracy vs. No. of epochs');"
   ]
  },
  {
   "cell_type": "code",
   "execution_count": null,
   "metadata": {
    "colab": {
     "base_uri": "https://localhost:8080/",
     "height": 295
    },
    "executionInfo": {
     "elapsed": 604,
     "status": "ok",
     "timestamp": 1609961884462,
     "user": {
      "displayName": "Hada Garcia",
      "photoUrl": "https://lh3.googleusercontent.com/a-/AOh14Gi5p64eWTKszDlj66P2U3dblSrqCuGP_A6Y9P01Xw=s64",
      "userId": "17697916405456863555"
     },
     "user_tz": -60
    },
    "id": "Z4kFJNHnNJou",
    "outputId": "acde92eb-1896-459a-d5c9-df287ac1b82a"
   },
   "outputs": [
    {
     "data": {
      "image/png": "[encoded data removed]",
      "text/plain": [
       "<Figure size 432x288 with 1 Axes>"
      ]
     },
     "metadata": {
      "needs_background": "light",
      "tags": []
     },
     "output_type": "display_data"
    }
   ],
   "source": [
    "plot_accuracies(history)"
   ]
  },
  {
   "cell_type": "markdown",
   "metadata": {
    "id": "op3v460nNS6O"
   },
   "source": [
    "We can also plot the training and validation losses to study the trend"
   ]
  },
  {
   "cell_type": "code",
   "execution_count": null,
   "metadata": {
    "id": "OU_xdkoyNW76"
   },
   "outputs": [],
   "source": [
    "def plot_losses(history):\r\n",
    "    train_losses = [x.get('train_loss') for x in history]\r\n",
    "    val_losses = [x['val_loss'] for x in history]\r\n",
    "    plt.plot(train_losses, '-bx')\r\n",
    "    plt.plot(val_losses, '-rx')\r\n",
    "    plt.xlabel('epoch')\r\n",
    "    plt.ylabel('loss')\r\n",
    "    plt.legend(['Training', 'Validation'])\r\n",
    "    plt.title('Loss vs. No. of epochs');"
   ]
  },
  {
   "cell_type": "code",
   "execution_count": null,
   "metadata": {
    "colab": {
     "base_uri": "https://localhost:8080/",
     "height": 295
    },
    "executionInfo": {
     "elapsed": 851,
     "status": "ok",
     "timestamp": 1609961955154,
     "user": {
      "displayName": "Hada Garcia",
      "photoUrl": "https://lh3.googleusercontent.com/a-/AOh14Gi5p64eWTKszDlj66P2U3dblSrqCuGP_A6Y9P01Xw=s64",
      "userId": "17697916405456863555"
     },
     "user_tz": -60
    },
    "id": "NocCrk6qNbUR",
    "outputId": "4440d945-fd4a-4edf-f83e-4124590d1986"
   },
   "outputs": [
    {
     "data": {
      "image/png": "[encoded data removed]",
      "text/plain": [
       "<Figure size 432x288 with 1 Axes>"
      ]
     },
     "metadata": {
      "needs_background": "light",
      "tags": []
     },
     "output_type": "display_data"
    }
   ],
   "source": [
    "plot_losses(history)"
   ]
  },
  {
   "cell_type": "markdown",
   "metadata": {
    "id": "TB12pNHTNkuK"
   },
   "source": [
    "It's clear from the trend that our model isn't overfitting to the training data just yet.\r\n",
    "\r\n",
    "Finally, let's visualize how the learning rate changed over time, batch-by-batch over all the epochs."
   ]
  },
  {
   "cell_type": "code",
   "execution_count": null,
   "metadata": {
    "id": "75P79xIxNrSi"
   },
   "outputs": [],
   "source": [
    "def plot_lrs(history):\r\n",
    "    lrs = np.concatenate([x.get('lrs', []) for x in history])\r\n",
    "    plt.plot(lrs)\r\n",
    "    plt.xlabel('Batch no.')\r\n",
    "    plt.ylabel('Learning rate')\r\n",
    "    plt.title('Learning Rate vs. Batch no.');"
   ]
  },
  {
   "cell_type": "code",
   "execution_count": null,
   "metadata": {
    "colab": {
     "base_uri": "https://localhost:8080/",
     "height": 295
    },
    "executionInfo": {
     "elapsed": 867,
     "status": "ok",
     "timestamp": 1609962036463,
     "user": {
      "displayName": "Hada Garcia",
      "photoUrl": "https://lh3.googleusercontent.com/a-/AOh14Gi5p64eWTKszDlj66P2U3dblSrqCuGP_A6Y9P01Xw=s64",
      "userId": "17697916405456863555"
     },
     "user_tz": -60
    },
    "id": "nEPM_xhsNvkb",
    "outputId": "ae068c09-5cd7-4678-f108-fbf0607150d2"
   },
   "outputs": [
    {
     "data": {
      "image/png": "[encoded data removed]",
      "text/plain": [
       "<Figure size 432x288 with 1 Axes>"
      ]
     },
     "metadata": {
      "needs_background": "light",
      "tags": []
     },
     "output_type": "display_data"
    }
   ],
   "source": [
    "plot_lrs(history)"
   ]
  },
  {
   "cell_type": "markdown",
   "metadata": {
    "id": "szlN0iGJN1lE"
   },
   "source": [
    "As expected, the learning rate starts at a low value, and gradually increases for 30% of the iterations to a maximum value of 0.01, and then gradually decreases to a very small value."
   ]
  },
  {
   "cell_type": "markdown",
   "metadata": {
    "id": "gefAPqZhN5L-"
   },
   "source": [
    "## Testing with individual images"
   ]
  },
  {
   "cell_type": "code",
   "execution_count": 33,
   "metadata": {
    "executionInfo": {
     "elapsed": 910,
     "status": "ok",
     "timestamp": 1610041091771,
     "user": {
      "displayName": "Hada Garcia",
      "photoUrl": "https://lh3.googleusercontent.com/a-/AOh14Gi5p64eWTKszDlj66P2U3dblSrqCuGP_A6Y9P01Xw=s64",
      "userId": "17697916405456863555"
     },
     "user_tz": -60
    },
    "id": "I8U0SlVJOAhX"
   },
   "outputs": [],
   "source": [
    "def predict_image(img, model):\r\n",
    "    # Convert to a batch of 1\r\n",
    "    xb = to_device(img.unsqueeze(0), device)\r\n",
    "    # Get predictions from model\r\n",
    "    yb = model(xb)\r\n",
    "    # Pick index with highest probability\r\n",
    "    _, preds  = torch.max(yb, dim=1)\r\n",
    "    # Retrieve the class label\r\n",
    "    return preds[0].item()"
   ]
  },
  {
   "cell_type": "code",
   "execution_count": null,
   "metadata": {
    "colab": {
     "base_uri": "https://localhost:8080/",
     "height": 299
    },
    "executionInfo": {
     "elapsed": 585,
     "status": "ok",
     "timestamp": 1609962611009,
     "user": {
      "displayName": "Hada Garcia",
      "photoUrl": "https://lh3.googleusercontent.com/a-/AOh14Gi5p64eWTKszDlj66P2U3dblSrqCuGP_A6Y9P01Xw=s64",
      "userId": "17697916405456863555"
     },
     "user_tz": -60
    },
    "id": "tO_FIRuGOrOP",
    "outputId": "2dfef510-cd86-41a9-dcea-8ce1c6169dcc"
   },
   "outputs": [
    {
     "name": "stdout",
     "output_type": "stream",
     "text": [
      "Test label:  6\n",
      "Label: G , Predicted label: 6\n"
     ]
    },
    {
     "data": {
      "image/png": "[encoded data removed]",
      "text/plain": [
       "<Figure size 432x288 with 1 Axes>"
      ]
     },
     "metadata": {
      "needs_background": "light",
      "tags": []
     },
     "output_type": "display_data"
    }
   ],
   "source": [
    "img, label = valid_ds[0]\r\n",
    "show_sample(img[0], label)\r\n",
    "print('Label:', classes_labels[label], ', Predicted label:', predict_image(img, model))"
   ]
  },
  {
   "cell_type": "code",
   "execution_count": null,
   "metadata": {
    "colab": {
     "base_uri": "https://localhost:8080/",
     "height": 299
    },
    "executionInfo": {
     "elapsed": 645,
     "status": "ok",
     "timestamp": 1609962651952,
     "user": {
      "displayName": "Hada Garcia",
      "photoUrl": "https://lh3.googleusercontent.com/a-/AOh14Gi5p64eWTKszDlj66P2U3dblSrqCuGP_A6Y9P01Xw=s64",
      "userId": "17697916405456863555"
     },
     "user_tz": -60
    },
    "id": "ojtxAkMKQFKY",
    "outputId": "ba0f1dad-e296-409a-c0f9-000b3ab1dab0"
   },
   "outputs": [
    {
     "name": "stdout",
     "output_type": "stream",
     "text": [
      "Test label:  12\n",
      "Label: M , Predicted label: 12\n"
     ]
    },
    {
     "data": {
      "image/png": "[encoded data removed]",
      "text/plain": [
       "<Figure size 432x288 with 1 Axes>"
      ]
     },
     "metadata": {
      "needs_background": "light",
      "tags": []
     },
     "output_type": "display_data"
    }
   ],
   "source": [
    "img, label = valid_ds[13]\r\n",
    "show_sample(img[0], label)\r\n",
    "print('Label:', classes_labels[label], ', Predicted label:', predict_image(img, model))"
   ]
  },
  {
   "cell_type": "code",
   "execution_count": null,
   "metadata": {
    "colab": {
     "base_uri": "https://localhost:8080/",
     "height": 299
    },
    "executionInfo": {
     "elapsed": 605,
     "status": "ok",
     "timestamp": 1609962679119,
     "user": {
      "displayName": "Hada Garcia",
      "photoUrl": "https://lh3.googleusercontent.com/a-/AOh14Gi5p64eWTKszDlj66P2U3dblSrqCuGP_A6Y9P01Xw=s64",
      "userId": "17697916405456863555"
     },
     "user_tz": -60
    },
    "id": "phK896cJQJd5",
    "outputId": "b555aeec-d08e-4bca-8317-1de5a52f8da2"
   },
   "outputs": [
    {
     "name": "stdout",
     "output_type": "stream",
     "text": [
      "Test label:  15\n",
      "Label: P , Predicted label: 15\n"
     ]
    },
    {
     "data": {
      "image/png": "[encoded data removed]",
      "text/plain": [
       "<Figure size 432x288 with 1 Axes>"
      ]
     },
     "metadata": {
      "needs_background": "light",
      "tags": []
     },
     "output_type": "display_data"
    }
   ],
   "source": [
    "img, label = valid_ds[40]\r\n",
    "show_sample(img[0], label)\r\n",
    "print('Label:', classes_labels[label], ', Predicted label:', predict_image(img, model))"
   ]
  },
  {
   "cell_type": "code",
   "execution_count": null,
   "metadata": {
    "colab": {
     "base_uri": "https://localhost:8080/",
     "height": 299
    },
    "executionInfo": {
     "elapsed": 668,
     "status": "ok",
     "timestamp": 1609962719767,
     "user": {
      "displayName": "Hada Garcia",
      "photoUrl": "https://lh3.googleusercontent.com/a-/AOh14Gi5p64eWTKszDlj66P2U3dblSrqCuGP_A6Y9P01Xw=s64",
      "userId": "17697916405456863555"
     },
     "user_tz": -60
    },
    "id": "-NhBoJ7CQRGr",
    "outputId": "e40a5dcb-75d5-425d-aa93-b0dd27e22cc8"
   },
   "outputs": [
    {
     "name": "stdout",
     "output_type": "stream",
     "text": [
      "Test label:  8\n",
      "Label: I , Predicted label: 8\n"
     ]
    },
    {
     "data": {
      "image/png": "[encoded data removed]",
      "text/plain": [
       "<Figure size 432x288 with 1 Axes>"
      ]
     },
     "metadata": {
      "needs_background": "light",
      "tags": []
     },
     "output_type": "display_data"
    }
   ],
   "source": [
    "img, label = valid_ds[100]\r\n",
    "show_sample(img[0], label)\r\n",
    "print('Label:', classes_labels[label], ', Predicted label:', predict_image(img, model))"
   ]
  },
  {
   "cell_type": "code",
   "execution_count": null,
   "metadata": {
    "colab": {
     "base_uri": "https://localhost:8080/",
     "height": 299
    },
    "executionInfo": {
     "elapsed": 712,
     "status": "ok",
     "timestamp": 1609962750725,
     "user": {
      "displayName": "Hada Garcia",
      "photoUrl": "https://lh3.googleusercontent.com/a-/AOh14Gi5p64eWTKszDlj66P2U3dblSrqCuGP_A6Y9P01Xw=s64",
      "userId": "17697916405456863555"
     },
     "user_tz": -60
    },
    "id": "MM8B_EzHQd61",
    "outputId": "4b043bd4-2a9d-4a2a-bf3c-6c356831620e"
   },
   "outputs": [
    {
     "name": "stdout",
     "output_type": "stream",
     "text": [
      "Test label:  18\n",
      "Label: S , Predicted label: 18\n"
     ]
    },
    {
     "data": {
      "image/png": "[encoded data removed]",
      "text/plain": [
       "<Figure size 432x288 with 1 Axes>"
      ]
     },
     "metadata": {
      "needs_background": "light",
      "tags": []
     },
     "output_type": "display_data"
    }
   ],
   "source": [
    "img, label = valid_ds[4504]\r\n",
    "show_sample(img[0], label)\r\n",
    "print('Label:', classes_labels[label], ', Predicted label:', predict_image(img, model))"
   ]
  },
  {
   "cell_type": "markdown",
   "metadata": {
    "id": "3CYfv0hB1YLr"
   },
   "source": [
    "## Loading a model\r\n",
    "\r\n",
    "This code in this section is meant to be executed only of the Model has been previously trained and we don't want to traing it again. We'll just load the weights and bias matrices mapped to the right attributes to a new model."
   ]
  },
  {
   "cell_type": "code",
   "execution_count": 29,
   "metadata": {
    "executionInfo": {
     "elapsed": 647,
     "status": "ok",
     "timestamp": 1610040699233,
     "user": {
      "displayName": "Hada Garcia",
      "photoUrl": "https://lh3.googleusercontent.com/a-/AOh14Gi5p64eWTKszDlj66P2U3dblSrqCuGP_A6Y9P01Xw=s64",
      "userId": "17697916405456863555"
     },
     "user_tz": -60
    },
    "id": "IMK_jI5D1t8J"
   },
   "outputs": [],
   "source": [
    "loaded_model = to_device(ResNet9(1, num_classes + 1), device)"
   ]
  },
  {
   "cell_type": "code",
   "execution_count": 30,
   "metadata": {
    "colab": {
     "base_uri": "https://localhost:8080/"
    },
    "executionInfo": {
     "elapsed": 844,
     "status": "ok",
     "timestamp": 1610040756790,
     "user": {
      "displayName": "Hada Garcia",
      "photoUrl": "https://lh3.googleusercontent.com/a-/AOh14Gi5p64eWTKszDlj66P2U3dblSrqCuGP_A6Y9P01Xw=s64",
      "userId": "17697916405456863555"
     },
     "user_tz": -60
    },
    "id": "-LWXIJNI53Nl",
    "outputId": "74ee5b01-56bb-4037-90de-480993b5b79c"
   },
   "outputs": [
    {
     "data": {
      "text/plain": [
       "<All keys matched successfully>"
      ]
     },
     "execution_count": 30,
     "metadata": {
      "tags": []
     },
     "output_type": "execute_result"
    }
   ],
   "source": [
    "loaded_model.load_state_dict(torch.load('hand-gestures-classifier.pth'))"
   ]
  },
  {
   "cell_type": "markdown",
   "metadata": {
    "id": "95BrDfvU6ZFW"
   },
   "source": [
    "Now the loaded_model is ready to make predictions, so here is possible to evaluate on the test dataset."
   ]
  },
  {
   "cell_type": "code",
   "execution_count": 44,
   "metadata": {
    "colab": {
     "base_uri": "https://localhost:8080/"
    },
    "executionInfo": {
     "elapsed": 5597,
     "status": "ok",
     "timestamp": 1610043701251,
     "user": {
      "displayName": "Hada Garcia",
      "photoUrl": "https://lh3.googleusercontent.com/a-/AOh14Gi5p64eWTKszDlj66P2U3dblSrqCuGP_A6Y9P01Xw=s64",
      "userId": "17697916405456863555"
     },
     "user_tz": -60
    },
    "id": "g2O6II4Y6PD6",
    "outputId": "f8441f49-fd8c-4566-b5b5-602c3b5103ba"
   },
   "outputs": [
    {
     "data": {
      "text/plain": [
       "{'val_acc': 1.0, 'val_loss': 0.0003249419678468257}"
      ]
     },
     "execution_count": 44,
     "metadata": {
      "tags": []
     },
     "output_type": "execute_result"
    }
   ],
   "source": [
    "evaluate(loaded_model, valid_dl)"
   ]
  },
  {
   "cell_type": "markdown",
   "metadata": {
    "id": "qFp6XRSwK9t5"
   },
   "source": [
    "## Save and Commit"
   ]
  },
  {
   "cell_type": "markdown",
   "metadata": {
    "id": "G7XKjJTYLDdz"
   },
   "source": [
    "Saving the model, in case we want to continue the training and not start from scratch."
   ]
  },
  {
   "cell_type": "code",
   "execution_count": null,
   "metadata": {
    "id": "s-Nbke85LBoo"
   },
   "outputs": [],
   "source": [
    "torch.save(model.state_dict(), 'hand-gestures-classifier.pth')"
   ]
  },
  {
   "cell_type": "markdown",
   "metadata": {
    "id": "KeuWt3bMLbT1"
   },
   "source": [
    "It's important to log as well all the hyperparams."
   ]
  },
  {
   "cell_type": "code",
   "execution_count": null,
   "metadata": {
    "colab": {
     "base_uri": "https://localhost:8080/"
    },
    "executionInfo": {
     "elapsed": 803,
     "status": "ok",
     "timestamp": 1609961627008,
     "user": {
      "displayName": "Hada Garcia",
      "photoUrl": "https://lh3.googleusercontent.com/a-/AOh14Gi5p64eWTKszDlj66P2U3dblSrqCuGP_A6Y9P01Xw=s64",
      "userId": "17697916405456863555"
     },
     "user_tz": -60
    },
    "id": "2iBWdSapLZsq",
    "outputId": "ea8b496c-e463-419d-fe79-744bfbcdee66"
   },
   "outputs": [
    {
     "name": "stdout",
     "output_type": "stream",
     "text": [
      "[jovian] Hyperparams logged.\u001b[0m\n"
     ]
    }
   ],
   "source": [
    "jovian.reset()\r\n",
    "jovian.log_hyperparams(arch='resnet9', \r\n",
    "                       epochs=epochs, \r\n",
    "                       lr=max_lr, \r\n",
    "                       scheduler='one-cycle', \r\n",
    "                       weight_decay=weight_decay, \r\n",
    "                       grad_clip=grad_clip,\r\n",
    "                       opt=opt_func.__name__)"
   ]
  },
  {
   "cell_type": "markdown",
   "metadata": {
    "id": "R-WzRPKRLul1"
   },
   "source": [
    "To log the metrics helps to perform a better training, knowing the improvements."
   ]
  },
  {
   "cell_type": "code",
   "execution_count": null,
   "metadata": {
    "colab": {
     "base_uri": "https://localhost:8080/"
    },
    "executionInfo": {
     "elapsed": 750,
     "status": "ok",
     "timestamp": 1609961691982,
     "user": {
      "displayName": "Hada Garcia",
      "photoUrl": "https://lh3.googleusercontent.com/a-/AOh14Gi5p64eWTKszDlj66P2U3dblSrqCuGP_A6Y9P01Xw=s64",
      "userId": "17697916405456863555"
     },
     "user_tz": -60
    },
    "id": "pv_BweigL1FW",
    "outputId": "4329ad6b-9eb2-47c0-d9fa-07dc1a8b3345"
   },
   "outputs": [
    {
     "name": "stdout",
     "output_type": "stream",
     "text": [
      "[jovian] Metrics logged.\u001b[0m\n"
     ]
    }
   ],
   "source": [
    "jovian.log_metrics(val_loss=history[-1]['val_loss'], \r\n",
    "                   val_acc=history[-1]['val_acc'],\r\n",
    "                   train_loss=history[-1]['train_loss'],\r\n",
    "                   time=train_time)"
   ]
  },
  {
   "cell_type": "code",
   "execution_count": null,
   "metadata": {
    "colab": {
     "base_uri": "https://localhost:8080/",
     "height": 137
    },
    "executionInfo": {
     "elapsed": 6446,
     "status": "ok",
     "timestamp": 1609961703381,
     "user": {
      "displayName": "Hada Garcia",
      "photoUrl": "https://lh3.googleusercontent.com/a-/AOh14Gi5p64eWTKszDlj66P2U3dblSrqCuGP_A6Y9P01Xw=s64",
      "userId": "17697916405456863555"
     },
     "user_tz": -60
    },
    "id": "jiGnU171sDtS",
    "outputId": "6d4fee75-ebab-4e7f-e7d0-c144b8f437f0"
   },
   "outputs": [
    {
     "name": "stdout",
     "output_type": "stream",
     "text": [
      "[jovian] Detected Colab notebook...\u001b[0m\n",
      "[jovian] Uploading colab notebook to Jovian...\u001b[0m\n",
      "[jovian] Capturing environment..\u001b[0m\n",
      "[jovian] Uploading additional outputs...\u001b[0m\n",
      "[jovian] Attaching records (metrics, hyperparameters, dataset etc.)\u001b[0m\n",
      "[jovian] Committed successfully! https://jovian.ai/hada-garcia/final-project-cnn\u001b[0m\n"
     ]
    },
    {
     "data": {
      "application/vnd.google.colaboratory.intrinsic+json": {
       "type": "string"
      },
      "text/plain": [
       "'https://jovian.ai/hada-garcia/final-project-cnn'"
      ]
     },
     "execution_count": 78,
     "metadata": {
      "tags": []
     },
     "output_type": "execute_result"
    }
   ],
   "source": [
    "jovian.commit(project=project_name, outputs=['hand-gestures-classifier.pth'])"
   ]
  },
  {
   "cell_type": "markdown",
   "metadata": {
    "id": "ntrioxzKuFo6"
   },
   "source": [
    "### References\r\n",
    "\r\n",
    "1.   Kaggle: https://www.kaggle.com/datamunge/sign-language-mnist/notebooks\r\n",
    "2.   Custom Datasets: https://pytorch.org/tutorials/beginner/data_loading_tutorial.html\r\n",
    "3. ResNet blocks. [Learn more](https://towardsdatascience.com/residual-blocks-building-blocks-of-resnet-fd90ca15d6ec)\r\n",
    "4. One Cycle Learning Rate Policy. [Learn more](https://sgugger.github.io/the-1cycle-policy.html)\r\n",
    "\r\n"
   ]
  }
 ],
 "metadata": {
  "accelerator": "GPU",
  "colab": {
   "name": "final-project-cnn.ipynb",
   "provenance": []
  },
  "kernelspec": {
   "display_name": "Python 3",
   "language": "python",
   "name": "python3"
  },
  "language_info": {
   "codemirror_mode": {
    "name": "ipython",
    "version": 3
   },
   "file_extension": ".py",
   "mimetype": "text/x-python",
   "name": "python",
   "nbconvert_exporter": "python",
   "pygments_lexer": "ipython3",
   "version": "3.7.6"
  }
 },
 "nbformat": 4,
 "nbformat_minor": 0
}